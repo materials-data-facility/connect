{
 "cells": [
  {
   "cell_type": "code",
   "execution_count": 1,
   "metadata": {},
   "outputs": [],
   "source": [
    "import os\n",
    "os.environ[\"FLASK_ENV\"]='development'\n",
    "\n",
    "from mdf_connect_server.automate.globus_automate_flow import GlobusAutomateFlow\n",
    "import mdf_toolbox\n",
    "import json\n",
    "import time"
   ]
  },
  {
   "cell_type": "code",
   "execution_count": 2,
   "metadata": {},
   "outputs": [
    {
     "name": "stdout",
     "output_type": "stream",
     "text": [
      "Globus Automate Flow: id=33af393f-4c5d-4031-ba2d-0c898de7c4fd, scope=https://auth.globus.org/scopes/33af393f-4c5d-4031-ba2d-0c898de7c4fd/flow_33af393f_4c5d_4031_ba2d_0c898de7c4fd_user\n"
     ]
    }
   ],
   "source": [
    "native_app_id = \"417301b1-5101-456a-8a27-423e71a2ae26\"  # Premade native app ID\n",
    "automate = GlobusAutomateFlow(native_app_id)\n",
    "automate.read_flow(\"mdf_flow_info.json\")\n",
    "\n",
    "print(automate)"
   ]
  },
  {
   "cell_type": "code",
   "execution_count": 3,
   "metadata": {},
   "outputs": [],
   "source": [
    "# Generate input credentials\n",
    "# The feedstock auth header is shorter-lived, so it's not set in the Flow defintition.\n",
    "# However, the header must be from an identity with access to the Xtract output location (currently Petrel)\n",
    "petrel_auth = mdf_toolbox.login(services=[\"petrel\"], make_clients=False)[\"petrel\"]\n",
    "feedstock_auth_header = {}\n",
    "petrel_auth.set_authorization_header(feedstock_auth_header)\n",
    "feedstock_auth_header = feedstock_auth_header[\"Authorization\"]\n",
    "\n",
    "# The RunAs token is used to Transfer data from the user as the user's identity.\n",
    "# It will be given by the MDF user (by logging in with MDF).\n",
    "# NOTE: Currently, RunAs is not used on the Transfer.\n",
    "run_as_auth = automate.get_runas_auth()\n",
    "run_as_token = run_as_auth.refresh_token"
   ]
  },
  {
   "cell_type": "code",
   "execution_count": 4,
   "metadata": {},
   "outputs": [
    {
     "data": {
      "text/plain": [
       "'mdf_flow_test_1606930993_v1.1'"
      ]
     },
     "execution_count": 4,
     "metadata": {},
     "output_type": "execute_result"
    }
   ],
   "source": [
    "# Get test input for Flow\n",
    "with open(\"mdf_flow_input.json\") as f:\n",
    "    flow_input = json.load(f)\n",
    "\n",
    "# Add credentials to input\n",
    "flow_input[\"_private_feedstock_auth_header\"] = feedstock_auth_header\n",
    "flow_input[\"_tokens\"] = {\"MDFUser\": run_as_token}\n",
    "\n",
    "# Create unique source_id for submission (source_id must be unique except for updates)\n",
    "source_id = \"mdf_flow_test_\" + str(int(time.time())) + \"_v1.1\"\n",
    "flow_input[\"source_id\"] = source_id\n",
    "source_id"
   ]
  },
  {
   "cell_type": "code",
   "execution_count": 5,
   "metadata": {},
   "outputs": [],
   "source": [
    "flow = automate.run_flow(flow_input)"
   ]
  },
  {
   "cell_type": "code",
   "execution_count": 6,
   "metadata": {},
   "outputs": [
    {
     "name": "stdout",
     "output_type": "stream",
     "text": [
      "{\n",
      "    \"action_id\": \"a141115e-f938-4111-8b6f-769af74c9f94\",\n",
      "    \"completion_time\": \"None\",\n",
      "    \"created_by\": \"urn:globus:auth:identity:8dd693cf-f1a0-4ee4-8079-b69705523e6b\",\n",
      "    \"details\": {\n",
      "        \"code\": \"ActionStarted\",\n",
      "        \"description\": \"State UserTransfer of type Action started\",\n",
      "        \"details\": {\n",
      "            \"input\": {\n",
      "                \"action_inputs\": [\n",
      "                    {\n",
      "                        \"destination_endpoint_id\": \"e38ee745-6d04-11e5-ba46-22000b92c6ec\",\n",
      "                        \"label\": \"MDF Flow Test Transfer1\",\n",
      "                        \"source_endpoint_id\": \"e38ee745-6d04-11e5-ba46-22000b92c6ec\",\n",
      "                        \"transfer_items\": [\n",
      "                            {\n",
      "                                \"destination_path\": \"/MDF/mdf_connect/test_files/deleteme/data/test123/\",\n",
      "                                \"recursive\": true,\n",
      "                                \"source_path\": \"/MDF/mdf_connect/test_files/canonical_datasets/dft/\"\n",
      "                            }\n",
      "                        ]\n",
      "                    }\n",
      "                ]\n",
      "            },\n",
      "            \"state_name\": \"UserTransfer\",\n",
      "            \"state_type\": \"Action\"\n",
      "        },\n",
      "        \"time\": \"2020-12-02T17:43:15.187000+00:00\"\n",
      "    },\n",
      "    \"start_time\": \"2020-12-02T17:43:14.955000+00:00\",\n",
      "    \"status\": \"ACTIVE\"\n",
      "}\n"
     ]
    }
   ],
   "source": [
    "print(json.dumps(flow.get_status(), indent=4, sort_keys=True))"
   ]
  },
  {
   "cell_type": "code",
   "execution_count": 11,
   "metadata": {},
   "outputs": [
    {
     "name": "stdout",
     "output_type": "stream",
     "text": [
      "{'code': 'ActionFailed', 'details': {'cause': '{\\'action_id\\': \\'46c3dee4-87de-448e-9460-cc8109c02ecc\\', \\'creator_id\\': \\'urn:globus:auth:identity:8dd693cf-f1a0-4ee4-8079-b69705523e6b\\', \\'details\\': {\\'message\\': \\'Action started\\'}, \\'errors\\': [\"error ingesting 46c3dee4-87de-448e-9460-cc8109c02ecc/mock_feedstock.json: (403, \\'Forbidden.Generic\\', \\'ingest request denied by service\\')\"], \\'manage_by\\': [\\'urn:globus:auth:identity:256d4736-e319-4ccc-b7d2-88f0cc2f8357\\', \\'urn:globus:auth:identity:4d40f211-15ac-4106-b8f5-e73dc093b5d5\\', \\'urn:globus:auth:identity:8dd693cf-f1a0-4ee4-8079-b69705523e6b\\'], \\'monitor_by\\': [\\'urn:globus:auth:identity:256d4736-e319-4ccc-b7d2-88f0cc2f8357\\', \\'urn:globus:auth:identity:4d40f211-15ac-4106-b8f5-e73dc093b5d5\\', \\'urn:globus:auth:identity:8dd693cf-f1a0-4ee4-8079-b69705523e6b\\'], \\'release_after\\': \\'P30D\\', \\'request_id\\': \\'flows_req_e60d29cd-c0c7-46c2-a234-12b04dea6f18\\', \\'status\\': \\'FAILED\\'}'}, 'time': '2020-12-02T17:43:56.497000+00:00'}\n",
      "failure: <class 'str'>\n",
      "{'action_id': '46c3dee4-87de-448e-9460-cc8109c02ecc', 'creator_id': 'urn:globus:auth:identity:8dd693cf-f1a0-4ee4-8079-b69705523e6b', 'details': {'message': 'Action started'}, 'errors': [\"error ingesting 46c3dee4-87de-448e-9460-cc8109c02ecc/mock_feedstock.json: (403, 'Forbidden.Generic', 'ingest request denied by service')\"], 'manage_by': ['urn:globus:auth:identity:256d4736-e319-4ccc-b7d2-88f0cc2f8357', 'urn:globus:auth:identity:4d40f211-15ac-4106-b8f5-e73dc093b5d5', 'urn:globus:auth:identity:8dd693cf-f1a0-4ee4-8079-b69705523e6b'], 'monitor_by': ['urn:globus:auth:identity:256d4736-e319-4ccc-b7d2-88f0cc2f8357', 'urn:globus:auth:identity:4d40f211-15ac-4106-b8f5-e73dc093b5d5', 'urn:globus:auth:identity:8dd693cf-f1a0-4ee4-8079-b69705523e6b'], 'release_after': 'P30D', 'request_id': 'flows_req_e60d29cd-c0c7-46c2-a234-12b04dea6f18', 'status': 'FAILED'}\n"
     ]
    },
    {
     "data": {
      "text/plain": [
       "[[\"error ingesting 46c3dee4-87de-448e-9460-cc8109c02ecc/mock_feedstock.json: (403, 'Forbidden.Generic', 'ingest request denied by service')\"]]"
      ]
     },
     "execution_count": 11,
     "metadata": {},
     "output_type": "execute_result"
    }
   ],
   "source": [
    "flow.get_error_msgs()"
   ]
  },
  {
   "cell_type": "code",
   "execution_count": 8,
   "metadata": {},
   "outputs": [
    {
     "data": {
      "text/plain": [
       "'a141115e-f938-4111-8b6f-769af74c9f94'"
      ]
     },
     "execution_count": 8,
     "metadata": {},
     "output_type": "execute_result"
    }
   ],
   "source": [
    "flow.action_id"
   ]
  },
  {
   "cell_type": "code",
   "execution_count": 9,
   "metadata": {},
   "outputs": [
    {
     "data": {
      "text/plain": [
       "<mdf_connect_server.automate.globus_automate_flow.GlobusAutomateFlow at 0x111691ed0>"
      ]
     },
     "execution_count": 9,
     "metadata": {},
     "output_type": "execute_result"
    }
   ],
   "source": [
    "automate"
   ]
  },
  {
   "cell_type": "code",
   "execution_count": 10,
   "metadata": {},
   "outputs": [
    {
     "name": "stdout",
     "output_type": "stream",
     "text": [
      "Globus Automate Flow: id=33af393f-4c5d-4031-ba2d-0c898de7c4fd, scope=https://auth.globus.org/scopes/33af393f-4c5d-4031-ba2d-0c898de7c4fd/flow_33af393f_4c5d_4031_ba2d_0c898de7c4fd_user\n"
     ]
    }
   ],
   "source": [
    "print(automate)"
   ]
  },
  {
   "cell_type": "code",
   "execution_count": null,
   "metadata": {},
   "outputs": [],
   "source": []
  }
 ],
 "metadata": {
  "kernelspec": {
   "display_name": "Python 3",
   "language": "python",
   "name": "python3"
  },
  "language_info": {
   "codemirror_mode": {
    "name": "ipython",
    "version": 3
   },
   "file_extension": ".py",
   "mimetype": "text/x-python",
   "name": "python",
   "nbconvert_exporter": "python",
   "pygments_lexer": "ipython3",
   "version": "3.7.6"
  }
 },
 "nbformat": 4,
 "nbformat_minor": 4
}
